{
 "cells": [
  {
   "cell_type": "markdown",
   "metadata": {},
   "source": [
    "# DAT257x: Reinforcement Learning Explained\n",
    "\n",
    "## Lab 2: Bandits\n",
    "\n",
    "### Exercise 2.3: UCB"
   ]
  },
  {
   "cell_type": "code",
   "execution_count": 1,
   "metadata": {},
   "outputs": [],
   "source": [
    "import numpy as np\n",
    "import sys\n",
    "\n",
    "if \"../\" not in sys.path:\n",
    "    sys.path.append(\"../\") \n",
    "\n",
    "from lib.envs.bandit import BanditEnv\n",
    "from lib.simulation import Experiment"
   ]
  },
  {
   "cell_type": "code",
   "execution_count": 2,
   "metadata": {},
   "outputs": [],
   "source": [
    "#Policy interface\n",
    "class Policy:\n",
    "    #num_actions: (int) Number of arms [indexed by 0 ... num_actions-1]\n",
    "    def __init__(self, num_actions):\n",
    "        self.num_actions = num_actions\n",
    "    \n",
    "    def act(self):\n",
    "        pass\n",
    "        \n",
    "    def feedback(self, action, reward):\n",
    "        pass"
   ]
  },
  {
   "cell_type": "code",
   "execution_count": 3,
   "metadata": {},
   "outputs": [],
   "source": [
    "#Greedy policy\n",
    "class Greedy(Policy):\n",
    "    def __init__(self, num_actions):\n",
    "        Policy.__init__(self, num_actions)\n",
    "        self.name = \"Greedy\"\n",
    "        self.total_rewards = np.zeros(num_actions, dtype = np.longdouble)\n",
    "        self.total_counts = np.zeros(num_actions, dtype = np.longdouble)\n",
    "    \n",
    "    def act(self):\n",
    "        current_averages = np.divide(self.total_rewards, self.total_counts, where = self.total_counts > 0)\n",
    "        current_averages[self.total_counts <= 0] = 0.5      #Correctly handles Bernoulli rewards; over-estimates otherwise\n",
    "        current_action = np.argmax(current_averages)\n",
    "        return current_action\n",
    "        \n",
    "    def feedback(self, action, reward):\n",
    "        self.total_rewards[action] += reward\n",
    "        self.total_counts[action] += 1"
   ]
  },
  {
   "cell_type": "code",
   "execution_count": 4,
   "metadata": {},
   "outputs": [],
   "source": [
    "#Epsilon Greedy policy\n",
    "class EpsilonGreedy(Greedy):\n",
    "    def __init__(self, num_actions, epsilon):\n",
    "        Greedy.__init__(self, num_actions)\n",
    "        if (epsilon is None or epsilon < 0 or epsilon > 1):\n",
    "            print(\"EpsilonGreedy: Invalid value of epsilon\", flush = True)\n",
    "            sys.exit(0)\n",
    "            \n",
    "        self.epsilon = epsilon\n",
    "        self.name = \"Epsilon Greedy\"\n",
    "    \n",
    "    def act(self):\n",
    "        choice = None\n",
    "        if self.epsilon == 0:\n",
    "            choice = 0\n",
    "        elif self.epsilon == 1:\n",
    "            choice = 1\n",
    "        else:\n",
    "            choice = np.random.binomial(1, self.epsilon)\n",
    "            \n",
    "        if choice == 1:\n",
    "            return np.random.choice(self.num_actions)\n",
    "        else:\n",
    "            current_averages = np.divide(self.total_rewards, self.total_counts, where = self.total_counts > 0)\n",
    "            current_averages[self.total_counts <= 0] = 0.5  #Correctly handles Bernoulli rewards; over-estimates otherwise\n",
    "            current_action = np.argmax(current_averages)\n",
    "            return current_action\n",
    "        "
   ]
  },
  {
   "cell_type": "markdown",
   "metadata": {},
   "source": [
    "Now let's implement a UCB algorithm. \n",
    "\n"
   ]
  },
  {
   "cell_type": "code",
   "execution_count": 5,
   "metadata": {},
   "outputs": [],
   "source": [
    "#UCB policy\n",
    "class UCB(Greedy):\n",
    "    def __init__(self, num_actions):\n",
    "        Greedy.__init__(self, num_actions)\n",
    "        self.name = \"UCB\"\n",
    "        self.round = 0\n",
    "        \n",
    "    def act(self):\n",
    "        current_action = None\n",
    "        self.round += 1\n",
    "        if self.round <= self.num_actions:\n",
    "            \"\"\"The first k rounds, where k is the number of arms/actions, play each arm/action once\"\"\"\n",
    "            current_action = self.round - 1\n",
    "        else:\n",
    "            \"\"\"At round t, play the arms with maximum average and exploration bonus\"\"\"\n",
    "            current_averages = np.divide(self.total_rewards, self.total_counts, where = self.total_counts > 0)\n",
    "            current_action = np.argmax(current_averages + np.sqrt(2*np.log(self.round)/self.total_counts))\n",
    "\n",
    "        return current_action"
   ]
  },
  {
   "cell_type": "markdown",
   "metadata": {},
   "source": [
    "Now let's prepare the simulation. "
   ]
  },
  {
   "cell_type": "code",
   "execution_count": 6,
   "metadata": {},
   "outputs": [],
   "source": [
    "evaluation_seed = 1239\n",
    "num_actions = 10\n",
    "trials = 10000\n",
    "distribution = \"bernoulli\"\n"
   ]
  },
  {
   "cell_type": "code",
   "execution_count": 7,
   "metadata": {},
   "outputs": [],
   "source": [
    "evaluation_seed = 1239\n",
    "num_actions = 10\n",
    "trials = 10000\n",
    "distribution = \"normal\""
   ]
  },
  {
   "cell_type": "markdown",
   "metadata": {},
   "source": [
    "What do you think the regret graph would look like?"
   ]
  },
  {
   "cell_type": "code",
   "execution_count": 8,
   "metadata": {},
   "outputs": [
    {
     "name": "stdout",
     "output_type": "stream",
     "text": [
      "Distribution: normal (array([ 1.67210906,  0.04144904, -2.26004314,  0.55185287, -0.99557374,\n",
      "       -0.2838564 , -0.50553487, -0.05963477, -0.54748047,  0.61487342]), array([0.16003572, 0.39623439, 0.70679209, 0.13345484, 0.97314585,\n",
      "       0.28711056, 0.11221114, 0.52693607, 0.53345874, 0.62434873]))\n",
      "Optimal arm: 0\n",
      "--------------------------------------------------\n",
      "Policy: UCB \n",
      "Average Reward: 1.66009031545759 \n",
      "Average Regret: 0.008733708181923797\n",
      "Arm pulls: [9.944e+03 6.000e+00 2.000e+00 1.600e+01 1.000e+00 5.000e+00 4.000e+00\n",
      " 4.000e+00 4.000e+00 1.400e+01]\n"
     ]
    },
    {
     "data": {
      "text/plain": [
       "<Figure size 720x360 with 0 Axes>"
      ]
     },
     "metadata": {},
     "output_type": "display_data"
    },
    {
     "data": {
      "image/png": "[encoded data removed]",
      "text/plain": [
       "<Figure size 720x360 with 1 Axes>"
      ]
     },
     "metadata": {},
     "output_type": "display_data"
    },
    {
     "data": {
      "image/png": "[encoded data removed]",
      "text/plain": [
       "<Figure size 720x360 with 1 Axes>"
      ]
     },
     "metadata": {},
     "output_type": "display_data"
    }
   ],
   "source": [
    "env = BanditEnv(num_actions, distribution, evaluation_seed)\n",
    "agent = UCB(num_actions)\n",
    "experiment = Experiment(env, agent)\n",
    "experiment.run_bandit(trials)"
   ]
  },
  {
   "cell_type": "code",
   "execution_count": null,
   "metadata": {},
   "outputs": [],
   "source": []
  },
  {
   "cell_type": "code",
   "execution_count": null,
   "metadata": {},
   "outputs": [],
   "source": []
  }
 ],
 "metadata": {
  "kernelspec": {
   "display_name": "Python 3",
   "language": "python",
   "name": "python3"
  },
  "language_info": {
   "codemirror_mode": {
    "name": "ipython",
    "version": 3
   },
   "file_extension": ".py",
   "mimetype": "text/x-python",
   "name": "python",
   "nbconvert_exporter": "python",
   "pygments_lexer": "ipython3",
   "version": "3.6.5"
  }
 },
 "nbformat": 4,
 "nbformat_minor": 2
}
